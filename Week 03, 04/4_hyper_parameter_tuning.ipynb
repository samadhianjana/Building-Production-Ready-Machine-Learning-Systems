{
 "cells": [
  {
   "cell_type": "markdown",
   "id": "ead4a6fe",
   "metadata": {},
   "source": [
    "### Import Dependencies"
   ]
  },
  {
   "cell_type": "code",
   "execution_count": 7,
   "id": "8b458108",
   "metadata": {},
   "outputs": [],
   "source": [
    "import warnings\n",
    "import numpy as np\n",
    "import pandas as pd\n",
    "import seaborn as sns\n",
    "import matplotlib.pyplot as plt\n",
    "from sklearn.linear_model import LogisticRegression\n",
    "from sklearn.tree import DecisionTreeClassifier\n",
    "from sklearn.ensemble import RandomForestClassifier\n",
    "from sklearn.model_selection import (\n",
    "                            StratifiedKFold,\n",
    "                            cross_validate,\n",
    "                            GridSearchCV\n",
    "                            )\n",
    "from sklearn.metrics import confusion_matrix\n",
    "\n",
    "warnings.filterwarnings('ignore')"
   ]
  },
  {
   "cell_type": "markdown",
   "id": "0a30da80",
   "metadata": {},
   "source": [
    "### Load the Data"
   ]
  },
  {
   "cell_type": "code",
   "execution_count": 2,
   "id": "3c84cb2d",
   "metadata": {},
   "outputs": [],
   "source": [
    "X_train = np.load('artifacts/X_train.npz')['arr_0']\n",
    "Y_train = np.load('artifacts/Y_train.npz')['arr_0']\n",
    "X_test = np.load('artifacts/X_test.npz')['arr_0']\n",
    "Y_test = np.load('artifacts/Y_test.npz')['arr_0']"
   ]
  },
  {
   "cell_type": "markdown",
   "id": "cef227c4",
   "metadata": {},
   "source": [
    "### Define Hyper Parameters to Tune"
   ]
  },
  {
   "cell_type": "code",
   "execution_count": 12,
   "id": "ff0ab6b7",
   "metadata": {},
   "outputs": [],
   "source": [
    "lr_param_grid = {\n",
    "    'max_iter': [1000, 5000, 10000]\n",
    "}\n",
    "\n",
    "dt_param_grid = {\n",
    "    'max_depth': [8, 12, 16, 20],\n",
    "    'criterion': ['gini', 'entropy', 'log_loss'],\n",
    "}\n",
    "\n",
    "rf_param_grid = {\n",
    "    'n_estimators': [100],\n",
    "    'max_depth': [8, 12],\n",
    "    'criterion': ['gini', 'entropy', 'log_loss']\n",
    "    }\n",
    "\n",
    "param_grids = {\n",
    "    'Logistic Regression': lr_param_grid,\n",
    "    'Decision Tree': dt_param_grid,\n",
    "    'Random Forest': rf_param_grid\n",
    "}"
   ]
  },
  {
   "cell_type": "markdown",
   "id": "64509779",
   "metadata": {},
   "source": [
    "### Define Multi Models"
   ]
  },
  {
   "cell_type": "code",
   "execution_count": 4,
   "id": "120b6f26",
   "metadata": {},
   "outputs": [],
   "source": [
    "models = {\n",
    "    'Logistic Regression' : LogisticRegression(),\n",
    "    'Decision Tree': DecisionTreeClassifier(),\n",
    "    'Random Forest': RandomForestClassifier()\n",
    "}"
   ]
  },
  {
   "cell_type": "markdown",
   "id": "1de02548",
   "metadata": {},
   "source": [
    "### Configure K-Fold CV"
   ]
  },
  {
   "cell_type": "code",
   "execution_count": 5,
   "id": "2dbd5f3a",
   "metadata": {},
   "outputs": [],
   "source": [
    "cv = StratifiedKFold(\n",
    "    n_splits = 6,\n",
    "    random_state = 42,\n",
    "    shuffle = True\n",
    ")"
   ]
  },
  {
   "cell_type": "markdown",
   "id": "efa85094",
   "metadata": {},
   "source": [
    "### Multi Model Training"
   ]
  },
  {
   "cell_type": "code",
   "execution_count": 13,
   "id": "83c1064f",
   "metadata": {},
   "outputs": [
    {
     "name": "stdout",
     "output_type": "stream",
     "text": [
      "n\\--- Tuning Logistic Regression ---\n",
      "\n",
      "Fitting gridSearchCV for Logistic Regression\n",
      "Fitting 6 folds for each of 3 candidates, totalling 18 fits\n",
      "Logistic Regression gridSearchCV completed.\n",
      "\n",
      "Best parameters: {'max_iter': 1000}\n",
      "Best CV score: 0.722714790571161\n",
      "\n",
      "n\\--- Tuning Decision Tree ---\n",
      "\n",
      "Fitting gridSearchCV for Decision Tree\n",
      "Fitting 6 folds for each of 12 candidates, totalling 72 fits\n",
      "Decision Tree gridSearchCV completed.\n",
      "\n",
      "Best parameters: {'criterion': 'log_loss', 'max_depth': 20}\n",
      "Best CV score: 0.8340330704166595\n",
      "\n",
      "n\\--- Tuning Random Forest ---\n",
      "\n",
      "Fitting gridSearchCV for Random Forest\n",
      "Fitting 6 folds for each of 6 candidates, totalling 36 fits\n",
      "Random Forest gridSearchCV completed.\n",
      "\n",
      "Best parameters: {'criterion': 'gini', 'max_depth': 12, 'n_estimators': 100}\n",
      "Best CV score: 0.8725421923620211\n",
      "\n"
     ]
    }
   ],
   "source": [
    "grid_search_results = {}\n",
    "\n",
    "for model_name, model in models.items():\n",
    "    print(f'n\\--- Tuning {model_name} ---\\n')\n",
    "    param_grid = param_grids[model_name]\n",
    "    grid_search = GridSearchCV(\n",
    "        estimator = model,\n",
    "        param_grid = param_grid,\n",
    "        cv=cv, scoring='f1',\n",
    "        verbose=1, return_train_score = False\n",
    "    )\n",
    "\n",
    "    print(f'Fitting gridSearchCV for {model_name}')\n",
    "\n",
    "    grid_search.fit(X_train, Y_train)\n",
    "\n",
    "    grid_search_results[model_name] = grid_search\n",
    "\n",
    "    print(f'{model_name} gridSearchCV completed.\\n')\n",
    "    print(f'Best parameters: {grid_search.best_params_}')\n",
    "    print(f'Best CV score: {grid_search.best_score_}\\n')"
   ]
  },
  {
   "cell_type": "code",
   "execution_count": 11,
   "id": "f82edf27",
   "metadata": {},
   "outputs": [
    {
     "data": {
      "text/plain": [
       "{'Logistic Regression': GridSearchCV(cv=StratifiedKFold(n_splits=6, random_state=42, shuffle=True),\n",
       "              estimator=LogisticRegression(),\n",
       "              param_grid={'max_iter': [1000, 5000, 10000]}, scoring='f1',\n",
       "              verbose=1),\n",
       " 'Decision Tree': GridSearchCV(cv=StratifiedKFold(n_splits=6, random_state=42, shuffle=True),\n",
       "              estimator=DecisionTreeClassifier(),\n",
       "              param_grid={'criterion': ['gini', 'entropy', 'log_loss', 'gini'],\n",
       "                          'max_depth': [8, 12, 16, 20]},\n",
       "              scoring='f1', verbose=1)}"
      ]
     },
     "execution_count": 11,
     "metadata": {},
     "output_type": "execute_result"
    }
   ],
   "source": [
    "grid_search_results"
   ]
  },
  {
   "cell_type": "code",
   "execution_count": null,
   "id": "c2333da0",
   "metadata": {},
   "outputs": [],
   "source": []
  }
 ],
 "metadata": {
  "kernelspec": {
   "display_name": "base",
   "language": "python",
   "name": "python3"
  },
  "language_info": {
   "codemirror_mode": {
    "name": "ipython",
    "version": 3
   },
   "file_extension": ".py",
   "mimetype": "text/x-python",
   "name": "python",
   "nbconvert_exporter": "python",
   "pygments_lexer": "ipython3",
   "version": "3.13.5"
  }
 },
 "nbformat": 4,
 "nbformat_minor": 5
}
